{
 "cells": [
  {
   "cell_type": "markdown",
   "metadata": {},
   "source": [
    "Siyu Wu Oct 25th\n",
    "Normalize batch by: x_batch_normalized = (x_batch - mean) / std\n",
    "In cell 14, test loss after 1000 epochs reach to 1.99"
   ]
  },
  {
   "cell_type": "code",
   "execution_count": 1,
   "metadata": {
    "colab": {
     "base_uri": "https://localhost:8080/"
    },
    "id": "J6x5yyTGp6fe",
    "outputId": "a2505de4-f2bc-4385-deed-ca04de54c568"
   },
   "outputs": [
    {
     "name": "stdout",
     "output_type": "stream",
     "text": [
      "Requirement already satisfied: torchviz in /Applications/anaconda3/lib/python3.11/site-packages (0.0.2)\n",
      "Requirement already satisfied: torch in /Applications/anaconda3/lib/python3.11/site-packages (from torchviz) (2.2.2)\n",
      "Requirement already satisfied: graphviz in /Applications/anaconda3/lib/python3.11/site-packages (from torchviz) (0.20.3)\n",
      "Requirement already satisfied: filelock in /Applications/anaconda3/lib/python3.11/site-packages (from torch->torchviz) (3.13.1)\n",
      "Requirement already satisfied: typing-extensions>=4.8.0 in /Applications/anaconda3/lib/python3.11/site-packages (from torch->torchviz) (4.9.0)\n",
      "Requirement already satisfied: sympy in /Applications/anaconda3/lib/python3.11/site-packages (from torch->torchviz) (1.12)\n",
      "Requirement already satisfied: networkx in /Applications/anaconda3/lib/python3.11/site-packages (from torch->torchviz) (3.1)\n",
      "Requirement already satisfied: jinja2 in /Applications/anaconda3/lib/python3.11/site-packages (from torch->torchviz) (3.1.3)\n",
      "Requirement already satisfied: fsspec in /Applications/anaconda3/lib/python3.11/site-packages (from torch->torchviz) (2023.10.0)\n",
      "Requirement already satisfied: MarkupSafe>=2.0 in /Applications/anaconda3/lib/python3.11/site-packages (from jinja2->torch->torchviz) (2.1.3)\n",
      "Requirement already satisfied: mpmath>=0.19 in /Applications/anaconda3/lib/python3.11/site-packages (from sympy->torch->torchviz) (1.3.0)\n"
     ]
    }
   ],
   "source": [
    "!pip install torchviz"
   ]
  },
  {
   "cell_type": "code",
   "execution_count": 2,
   "metadata": {
    "colab": {
     "base_uri": "https://localhost:8080/"
    },
    "id": "C7pqy4uQlf4R",
    "outputId": "ca1a1d16-d1db-4238-c2a9-db6916d9ba42"
   },
   "outputs": [
    {
     "name": "stdout",
     "output_type": "stream",
     "text": [
      "Data parsing is done!\n"
     ]
    }
   ],
   "source": [
    "# Import relevant python modules\n",
    "import sys, os\n",
    "import numpy as np\n",
    "import pandas as pd\n",
    "from sklearn.model_selection import train_test_split\n",
    "import warnings\n",
    "warnings.filterwarnings('ignore')\n",
    "\n",
    "# The datasets needed are computed by the `ComputeGluon.py` script in PseudoData\n",
    "filename1='https://raw.githubusercontent.com/rabah-khalek/TF_tutorials/master/PseudoData/gluon_NNPDF31_nlo_pch_as_0118_xmin1e-3.dat'\n",
    "filename2='https://raw.githubusercontent.com/rabah-khalek/TF_tutorials/master/PseudoData/gluon_NNPDF31_nlo_pch_as_0118_xmin1e-4.dat'\n",
    "filename3='https://raw.githubusercontent.com/rabah-khalek/TF_tutorials/master/PseudoData/gluon_NNPDF31_nlo_pch_as_0118_xmin1e-5.dat'\n",
    "filename4='https://raw.githubusercontent.com/rabah-khalek/TF_tutorials/master/PseudoData/gluon_NNPDF31_nlo_pch_as_0118_xmin1e-6.dat'\n",
    "\n",
    "# Headers to skip\n",
    "lines_to_skip = 5\n",
    "\n",
    "# Defining the columns (cv = central value, sd = standard deviation)\n",
    "columns=[\"x\", \"gluon_cv\", \"gluon_sd\"]\n",
    "\n",
    "# Loading data from txt file\n",
    "# Change filename1 to another filename for data that extends to lower x\n",
    "# (see exercises at the bottom of this notebook)\n",
    "df = pd.read_csv(filename1,\n",
    "                 sep=\"\\s+\",\n",
    "                 skiprows=lines_to_skip,\n",
    "                 usecols=[0,1,2],\n",
    "                 names=columns)\n",
    "\n",
    "# Splitting data randomly to train and test using the sklearn library\n",
    "df_train, df_test = train_test_split(df,test_size=0.2,random_state=42)\n",
    "\n",
    "# Sort the split data according to their x values\n",
    "df_train = df_train.sort_values(\"x\")\n",
    "df_test = df_test.sort_values(\"x\")\n",
    "\n",
    "print(\"Data parsing is done!\")"
   ]
  },
  {
   "cell_type": "code",
   "execution_count": 3,
   "metadata": {
    "colab": {
     "base_uri": "https://localhost:8080/"
    },
    "id": "M5WDfUDMrEj-",
    "outputId": "d416ddf5-17d2-47b8-d3e3-9e9f4c568232"
   },
   "outputs": [
    {
     "name": "stdout",
     "output_type": "stream",
     "text": [
      "            x  gluon_cv  gluon_sd\n",
      "0    0.001000  4.480675  0.523964\n",
      "1    0.001007  4.478519  0.520743\n",
      "2    0.001014  4.476361  0.517539\n",
      "3    0.001021  4.474202  0.514349\n",
      "4    0.001028  4.472040  0.511176\n",
      "..        ...       ...       ...\n",
      "993  0.952796 -0.001109  0.003990\n",
      "994  0.959401 -0.000878  0.003423\n",
      "996  0.972747 -0.000634  0.002707\n",
      "997  0.979490 -0.000494  0.002179\n",
      "999  0.993116 -0.000144  0.000697\n",
      "\n",
      "[800 rows x 3 columns]\n"
     ]
    }
   ],
   "source": [
    "print(df_train)"
   ]
  },
  {
   "cell_type": "code",
   "execution_count": 4,
   "metadata": {},
   "outputs": [
    {
     "name": "stdout",
     "output_type": "stream",
     "text": [
      "Requirement already satisfied: torchvision in /Applications/anaconda3/lib/python3.11/site-packages (0.17.2)\n",
      "Requirement already satisfied: numpy in /Applications/anaconda3/lib/python3.11/site-packages (from torchvision) (1.26.4)\n",
      "Requirement already satisfied: torch==2.2.2 in /Applications/anaconda3/lib/python3.11/site-packages (from torchvision) (2.2.2)\n",
      "Requirement already satisfied: pillow!=8.3.*,>=5.3.0 in /Applications/anaconda3/lib/python3.11/site-packages (from torchvision) (10.2.0)\n",
      "Requirement already satisfied: filelock in /Applications/anaconda3/lib/python3.11/site-packages (from torch==2.2.2->torchvision) (3.13.1)\n",
      "Requirement already satisfied: typing-extensions>=4.8.0 in /Applications/anaconda3/lib/python3.11/site-packages (from torch==2.2.2->torchvision) (4.9.0)\n",
      "Requirement already satisfied: sympy in /Applications/anaconda3/lib/python3.11/site-packages (from torch==2.2.2->torchvision) (1.12)\n",
      "Requirement already satisfied: networkx in /Applications/anaconda3/lib/python3.11/site-packages (from torch==2.2.2->torchvision) (3.1)\n",
      "Requirement already satisfied: jinja2 in /Applications/anaconda3/lib/python3.11/site-packages (from torch==2.2.2->torchvision) (3.1.3)\n",
      "Requirement already satisfied: fsspec in /Applications/anaconda3/lib/python3.11/site-packages (from torch==2.2.2->torchvision) (2023.10.0)\n",
      "Requirement already satisfied: MarkupSafe>=2.0 in /Applications/anaconda3/lib/python3.11/site-packages (from jinja2->torch==2.2.2->torchvision) (2.1.3)\n",
      "Requirement already satisfied: mpmath>=0.19 in /Applications/anaconda3/lib/python3.11/site-packages (from sympy->torch==2.2.2->torchvision) (1.3.0)\n"
     ]
    }
   ],
   "source": [
    "! pip install torchvision"
   ]
  },
  {
   "cell_type": "code",
   "execution_count": 5,
   "metadata": {
    "id": "_5A7yYKhpp4P"
   },
   "outputs": [],
   "source": [
    "import numpy as np\n",
    "import torch\n",
    "import torch.optim as optim\n",
    "import torch.nn as nn\n",
    "from torchviz import make_dot\n",
    "from torch.utils.data import Dataset, TensorDataset, DataLoader\n",
    "import torchvision.datasets as datasets\n",
    "import torchvision.transforms as transforms\n",
    "from torch.utils.data.dataset import random_split"
   ]
  },
  {
   "cell_type": "code",
   "execution_count": 6,
   "metadata": {
    "id": "z4-H5pIDoTsD"
   },
   "outputs": [],
   "source": [
    "import torch.nn as nn\n",
    "import torch.nn.functional as F\n",
    "\n",
    "\n",
    "##################################################################\n",
    "# Building NN from the PyTorch API (nn.Linear)\n",
    "##################################################################\n",
    "\n",
    "class Torch_Model(nn.Module):\n",
    "\n",
    "    def __init__(self, n_features, n_neurons, n_outputs):\n",
    "\n",
    "        super(Torch_Model, self).__init__()\n",
    "\n",
    "        self.fc1 = nn.Linear(n_features, n_neurons) # Hidden Layer 1\n",
    "        self.relu = nn.ReLU()\n",
    "        self.fc2 = nn.Linear(n_neurons, n_outputs) # Output Layer\n",
    "\n",
    "    # Evaluates and returns output\n",
    "    def forward(self, x):\n",
    "        out = self.fc1(x)\n",
    "        out = self.relu(out)\n",
    "        out = self.fc2(out)\n",
    "        return out"
   ]
  },
  {
   "cell_type": "code",
   "execution_count": 7,
   "metadata": {
    "id": "NSwYnGISSiVc"
   },
   "outputs": [],
   "source": [
    "# Set device\n",
    "device = torch.device('cuda' if torch.cuda.is_available() else 'cpu')"
   ]
  },
  {
   "cell_type": "code",
   "execution_count": 8,
   "metadata": {},
   "outputs": [
    {
     "data": {
      "text/plain": [
       "<torch._C.Generator at 0x143b3f9f0>"
      ]
     },
     "execution_count": 8,
     "metadata": {},
     "output_type": "execute_result"
    }
   ],
   "source": [
    "#set seed\n",
    "torch.manual_seed(42)"
   ]
  },
  {
   "cell_type": "code",
   "execution_count": 9,
   "metadata": {
    "id": "7UoAUmwtS0zo"
   },
   "outputs": [],
   "source": [
    "# Hyperparameters\n",
    "n_features = 1\n",
    "n_neurons = 20\n",
    "n_outputs = 1\n",
    "learning_rate = 0.001\n",
    "batch_size = 20\n",
    "n_epochs = 1000"
   ]
  },
  {
   "cell_type": "code",
   "execution_count": 10,
   "metadata": {
    "id": "d8VT9kIcTQAn"
   },
   "outputs": [],
   "source": [
    "# Load data\n",
    "\n",
    "#print(df_train.to_numpy())\n",
    "#train_dataset, val_dataset = random_split(df_train.to_numpy(), [80, 20])\n",
    "\n",
    "train_loader = DataLoader(df_train.to_numpy(), batch_size=batch_size)\n",
    "val_loader = DataLoader(df_test.to_numpy(), batch_size=batch_size)\n",
    "\n"
   ]
  },
  {
   "cell_type": "code",
   "execution_count": 11,
   "metadata": {
    "id": "_0DAX9jfiyGJ"
   },
   "outputs": [],
   "source": [
    "# Initialize network\n",
    "model = Torch_Model(n_features, n_neurons, n_outputs).to(device)"
   ]
  },
  {
   "cell_type": "code",
   "execution_count": 12,
   "metadata": {
    "id": "PupCzpAJjMLo"
   },
   "outputs": [],
   "source": [
    "# Loss and optimizer\n",
    "criterion = nn.CrossEntropyLoss()\n",
    "optimizer = optim.Adam(model.parameters(), lr=learning_rate)"
   ]
  },
  {
   "cell_type": "code",
   "execution_count": 13,
   "metadata": {
    "id": "wwN1dgYXuq8c"
   },
   "outputs": [],
   "source": [
    "def make_train_step(model, loss_fn, optimizer):\n",
    "    def train_step(x, y, dy):\n",
    "        model.train()\n",
    "        yhat = model(x)\n",
    "        loss = loss_fn(y/dy, yhat/dy)\n",
    "        loss.backward()\n",
    "        optimizer.step()\n",
    "        optimizer.zero_grad()\n",
    "        return loss.item()\n",
    "    return train_step"
   ]
  },
  {
   "cell_type": "code",
   "execution_count": 14,
   "metadata": {
    "colab": {
     "base_uri": "https://localhost:8080/",
     "height": 1000
    },
    "id": "SUudcRevMMZO",
    "outputId": "1e1e01c7-5575-4e5d-9255-ec1b548a0bbe"
   },
   "outputs": [
    {
     "data": {
      "text/plain": [
       "<Figure size 1500x1000 with 0 Axes>"
      ]
     },
     "metadata": {},
     "output_type": "display_data"
    }
   ],
   "source": [
    "import matplotlib.pyplot as plt\n",
    "import torch\n",
    "from torch.utils.data import TensorDataset, DataLoader\n",
    "\n",
    "plt.figure(figsize=(15,10))\n",
    "\n",
    "# Set device\n",
    "device = torch.device('cuda' if torch.cuda.is_available() else 'cpu')\n",
    "\n",
    "# Prepare data\n",
    "x_train = torch.tensor(df_train['x'].values.reshape(-1, 1)).float().to(device)\n",
    "y_train = torch.tensor(df_train['gluon_cv'].values.reshape(-1, 1)).float().to(device)\n",
    "dy_train = torch.tensor(df_train['gluon_sd'].values.reshape(-1, 1)).float().to(device)\n",
    "\n",
    "train_dataset = TensorDataset(x_train, y_train, dy_train)\n",
    "train_loader = DataLoader(train_dataset, batch_size=batch_size)\n",
    "\n",
    "x_test = torch.tensor(df_test['x'].values.reshape(-1, 1)).float().to(device)\n",
    "y_test = torch.tensor(df_test['gluon_cv'].values.reshape(-1, 1)).float().to(device)\n",
    "dy_test = torch.tensor(df_test['gluon_sd'].values.reshape(-1, 1)).float().to(device)\n",
    "\n",
    "test_dataset = TensorDataset(x_test, y_test, dy_test)\n",
    "test_loader = DataLoader(test_dataset, batch_size=batch_size)\n",
    "\n",
    "# Initialize network\n",
    "model = Torch_Model(n_features, n_neurons, n_outputs).to(device)"
   ]
  },
  {
   "cell_type": "markdown",
   "metadata": {},
   "source": [
    "Normalize Batch by : x_batch_normalized = (x_batch - mean) / std\n",
    "Then calculate loss: loss = train_step(x_batch_normalized, y_batch, dy_batch)"
   ]
  },
  {
   "cell_type": "code",
   "execution_count": 15,
   "metadata": {},
   "outputs": [
    {
     "name": "stdout",
     "output_type": "stream",
     "text": [
      "Epoch [100/1000], Train Loss: 28.0188, Test Loss: 20.6326\n",
      "Epoch [200/1000], Train Loss: 21.4102, Test Loss: 13.7172\n",
      "Epoch [300/1000], Train Loss: 17.6406, Test Loss: 11.1795\n",
      "Epoch [400/1000], Train Loss: 14.8082, Test Loss: 9.3171\n",
      "Epoch [500/1000], Train Loss: 13.3928, Test Loss: 8.3662\n",
      "Epoch [600/1000], Train Loss: 11.9582, Test Loss: 7.4177\n",
      "Epoch [700/1000], Train Loss: 11.1884, Test Loss: 6.8870\n",
      "Epoch [800/1000], Train Loss: 10.3677, Test Loss: 6.3796\n",
      "Epoch [900/1000], Train Loss: 9.5776, Test Loss: 5.9052\n",
      "Epoch [1000/1000], Train Loss: 8.7603, Test Loss: 5.4070\n"
     ]
    }
   ],
   "source": [
    "# Loss and optimizer\n",
    "criterion = nn.MSELoss()\n",
    "optimizer = optim.Adam(model.parameters(), lr=learning_rate)\n",
    "\n",
    "#Normalize batch\n",
    "train_step = make_train_step(model, criterion, optimizer)\n",
    "\n",
    "train_data = []\n",
    "for x_batch, _, _ in train_loader:\n",
    "    train_data.append(x_batch)\n",
    "train_data = torch.cat(train_data)  \n",
    "mean = train_data.mean(dim=0)        # Compute mean\n",
    "std = train_data.std(dim=0)          # Compute std deviation\n",
    "\n",
    "train_losses = []\n",
    "test_losses = []\n",
    "\n",
    "for epoch in range(n_epochs):\n",
    "    train_loss = 0\n",
    "    for x_batch, y_batch, dy_batch in train_loader:\n",
    "       \n",
    "        x_batch_normalized = (x_batch - mean) / std\n",
    "        \n",
    "        loss = train_step(x_batch_normalized, y_batch, dy_batch)\n",
    "        train_loss += loss\n",
    "\n",
    "    train_loss /= len(train_loader)\n",
    "    train_losses.append(train_loss)\n",
    "\n",
    "    with torch.no_grad():\n",
    "        test_loss = 0\n",
    "        for x_batch, y_batch, dy_batch in test_loader:\n",
    "            model.eval()\n",
    "            # Normalize test batches using the training mean and std\n",
    "            x_batch_normalized = (x_batch - mean) / std\n",
    "            \n",
    "            y_pred = model(x_batch_normalized)\n",
    "            loss = criterion(y_batch / dy_batch, y_pred / dy_batch)\n",
    "            test_loss += loss.item()\n",
    "\n",
    "        test_loss /= len(test_loader)\n",
    "        test_losses.append(test_loss)\n",
    "\n",
    "    if (epoch + 1) % 100 == 0:\n",
    "        print(f'Epoch [{epoch + 1}/{n_epochs}], Train Loss: {train_loss:.4f}, Test Loss: {test_loss:.4f}')"
   ]
  },
  {
   "cell_type": "code",
   "execution_count": null,
   "metadata": {},
   "outputs": [
    {
     "data": {
      "image/png": "[encoded data removed]",
      "text/plain": [
       "<Figure size 640x480 with 1 Axes>"
      ]
     },
     "metadata": {},
     "output_type": "display_data"
    }
   ],
   "source": [
    "# Plot train and test losses\n",
    "plt.plot(train_losses, label='Train Loss')\n",
    "plt.plot(test_losses, label='Test Loss')\n",
    "plt.xlabel('Epoch')\n",
    "plt.ylabel('Loss')\n",
    "plt.legend()\n",
    "plt.show()\n",
    "\n",
    "plt.figure(figsize=(15,10))\n",
    "\n",
    "# Visualize model graph\n",
    "x_sample = torch.tensor([[0.1]]).float().to(device)\n",
    "make_dot(model(x_sample), params=dict(model.named_parameters()))\n",
    "plt.show()\n",
    "\n",
    "plt.figure(figsize=(15,10))\n",
    "\n",
    "# Evaluate the model on the test set\n",
    "model.eval()\n",
    "y_pred = model(x_test)\n",
    "\n",
    "# Plot predictions vs true values\n",
    "plt.errorbar(df_train[\"x\"],y_train.numpy(),yerr=dy_train.numpy(),fmt='.',color='darkblue',label='$d_{g}^{train}$',alpha=0.3)\n",
    "plt.fill_between(df_train[\"x\"],df_train[\"gluon_cv\"]+df_train[\"gluon_sd\"],\n",
    "                  df_train[\"gluon_cv\"]-df_train[\"gluon_sd\"] ,color='blue',\n",
    "                  alpha=0.1, label='$\\sigma_{g}$')\n",
    "plt.plot(x_test.cpu().numpy(), y_test.cpu().numpy(), label='True Values')\n",
    "plt.plot(x_test.cpu().numpy(), y_pred.detach().cpu().numpy(), label='Predictions')\n",
    "plt.xscale('log')\n",
    "plt.xlabel('x')\n",
    "plt.ylabel('gluon PDF')\n",
    "plt.legend()\n",
    "plt.show()"
   ]
  }
 ],
 "metadata": {
  "colab": {
   "provenance": []
  },
  "kernelspec": {
   "display_name": "Python 3 (ipykernel)",
   "language": "python",
   "name": "python3"
  },
  "language_info": {
   "codemirror_mode": {
    "name": "ipython",
    "version": 3
   },
   "file_extension": ".py",
   "mimetype": "text/x-python",
   "name": "python",
   "nbconvert_exporter": "python",
   "pygments_lexer": "ipython3",
   "version": "3.11.7"
  }
 },
 "nbformat": 4,
 "nbformat_minor": 4
}
